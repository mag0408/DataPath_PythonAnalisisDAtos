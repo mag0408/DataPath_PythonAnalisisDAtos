{
  "nbformat": 4,
  "nbformat_minor": 0,
  "metadata": {
    "colab": {
      "provenance": []
    },
    "kernelspec": {
      "name": "python3",
      "display_name": "Python 3"
    },
    "language_info": {
      "name": "python"
    }
  },
  "cells": [
    {
      "cell_type": "code",
      "execution_count": 5,
      "metadata": {
        "colab": {
          "base_uri": "https://localhost:8080/"
        },
        "id": "hN90srQY-4o-",
        "outputId": "99cd0659-541e-4c0a-ce94-c8610bae4e6b"
      },
      "outputs": [
        {
          "output_type": "stream",
          "name": "stdout",
          "text": [
            "Digite una letra: a\n",
            "Digite una frase: hola\n",
            "la cantidad de veces que aparece la letra: a en la frase es: 1\n"
          ]
        }
      ],
      "source": [
        "\n",
        "\n",
        "################################################################################################# Clase 1 - Letra en palabra\n",
        "def contadorletras (inletra, frase):\n",
        "  contador = 0\n",
        "  for letraFrase in frase:\n",
        "    if inletra == letraFrase:\n",
        "      contador = contador + 1\n",
        "  print (f\"la cantidad de veces que aparece la letra: {inletra} en la frase es: {contador}\")\n",
        "\n",
        "\n",
        "inletra = input (\"Digite una letra: \")\n",
        "frase = input (\"Digite una frase: \")\n",
        "contadorletras(inletra, frase)\n",
        "\n",
        "################################################################################################\n",
        "\n"
      ]
    },
    {
      "cell_type": "code",
      "source": [
        "\n",
        "\n",
        "################################################################################################# Clase 2 - Búsqueda de un numero entero N en lista L\n",
        "def buscarN (n, lista):\n",
        "  try:\n",
        "    indice = lista.index(n)\n",
        "    print (f\"Encontrado en la posicion: {indice}\")\n",
        "  except:\n",
        "    print (\"No encontrado\")\n",
        "    print (\"-1\")\n",
        "\n",
        "\n",
        "\n",
        "\n",
        "lista = []\n",
        "numero = int(input (\"Digite el numer entero a encontrar: \"))\n",
        "lista = eval (input (\"Digite la lista de numeros: \"))\n",
        "buscarN (numero, lista)\n",
        "################################################################################################\n",
        "\n"
      ],
      "metadata": {
        "colab": {
          "base_uri": "https://localhost:8080/"
        },
        "id": "u92CSYH_A3V9",
        "outputId": "0b6e1940-70ad-4767-c0d6-cc7b06bd4d25"
      },
      "execution_count": 27,
      "outputs": [
        {
          "output_type": "stream",
          "name": "stdout",
          "text": [
            "Digite el numer entero a encontrar: 0\n",
            "Digite la lista de numeros: [10, 20, 30, 40, 50]\n",
            "No encontrado\n",
            "-1\n"
          ]
        }
      ]
    },
    {
      "cell_type": "code",
      "source": [
        "\n",
        "\n",
        "################################################################################################ Clase 2 - Algoritmo de ordenamiento\n",
        "def ordenarlista (lista):\n",
        "  lista_ordenada = []\n",
        "  cantidad = len(lista)\n",
        "  for i in range(cantidad):\n",
        "    num_menor_actual = min(lista)\n",
        "    lista.remove(num_menor_actual)\n",
        "    lista_ordenada.append(num_menor_actual)\n",
        "  return lista_ordenada\n",
        "\n",
        "lista_a_ordenar = []\n",
        "lista_a_ordenar = eval(input(\"Escriba la lista a ordenar: \"))\n",
        "print(ordenarlista(lista_a_ordenar))\n",
        "################################################################################################\n",
        "\n"
      ],
      "metadata": {
        "colab": {
          "base_uri": "https://localhost:8080/"
        },
        "id": "ZqG79NeVKLH0",
        "outputId": "2234e6ad-15a6-4ab3-c88c-8257682ed8b8"
      },
      "execution_count": 21,
      "outputs": [
        {
          "output_type": "stream",
          "name": "stdout",
          "text": [
            "Escriba la lista a ordenar: [3, 5, 2, 7]\n",
            "[2, 3, 5, 7]\n"
          ]
        }
      ]
    },
    {
      "cell_type": "code",
      "source": [
        "\n",
        "\n",
        "################################################################################################ Clase 2 - Problema de la bolsa\n",
        "def probarcapacidad (pesomax, listaobjs):\n",
        "  lista_pesos_totales = []\n",
        "  peso_actual = 0\n",
        "  for fila in listaobjs:\n",
        "    peso_por_fila = fila[1]*fila[2]\n",
        "    if (peso_por_fila+peso_actual) <= pesomax:\n",
        "      peso_actual = peso_por_fila+peso_actual\n",
        "      lista_pesos_totales.append(peso_por_fila)\n",
        "  return lista_pesos_totales\n",
        "\n",
        "\n",
        "matriz_productos = []\n",
        "matriz_productos = eval(input(\"Escriba la lista de productos. Nombre del producto, su peso y su cantidad en una matriz: \"))\n",
        "pesomax = int(input(\"Escriba el peso maximo de su bolsa: \"))\n",
        "print(probarcapacidad(pesomax, matriz_productos))\n",
        "################################################################################################\n",
        "\n"
      ],
      "metadata": {
        "colab": {
          "base_uri": "https://localhost:8080/"
        },
        "id": "NWALwX2TP8Iq",
        "outputId": "bb9b2cf3-0384-4581-ba50-96f68b11c293"
      },
      "execution_count": 25,
      "outputs": [
        {
          "output_type": "stream",
          "name": "stdout",
          "text": [
            "Escriba la lista de productos. Nombre del producto, su peso y su cantidad en una matriz: [ ['manzana',2,2], ['melon',10,1], ['pera',1,10], ]\n",
            "Escriba el peso maximo de su bolsa: 30\n",
            "[4, 10, 10]\n"
          ]
        }
      ]
    },
    {
      "cell_type": "code",
      "source": [
        "\n",
        "\n",
        "################################################################################################ Clase 3 - Problema de matrices D y E\n",
        "import numpy as np\n",
        "\n",
        "\n",
        "def suma(d, e):\n",
        "  if np.size(d) != np.size(e):\n",
        "    return np.concatenate( (d.flatten(), e.flatten()), axis= 0 )\n",
        "  else:\n",
        "    dim = np.shape(d)\n",
        "    suma = d.flatten() + e.flatten()\n",
        "    return suma.reshape(dim)\n",
        "\n",
        "#matriz1= np.array( [ [1,-1], [-1,3] ] )\n",
        "listaD = eval(input(\"digite su matriz D: \"))\n",
        "listaE = eval(input(\"digite su matriz E: \"))\n",
        "\n",
        "matriz = np.array( listaD )\n",
        "vector = np.array( listaE )\n",
        "suma(matriz, vector)\n",
        "################################################################################################\n",
        "\n"
      ],
      "metadata": {
        "colab": {
          "base_uri": "https://localhost:8080/"
        },
        "id": "BMOBdsJuUsR_",
        "outputId": "1512c92d-43da-4a5c-a302-1abc62393e2c"
      },
      "execution_count": 44,
      "outputs": [
        {
          "name": "stdout",
          "output_type": "stream",
          "text": [
            "digite su matriz D: [ [1,1], [2,2] ]\n",
            "digite su matriz E: [[3,4,5,6]]\n"
          ]
        },
        {
          "output_type": "execute_result",
          "data": {
            "text/plain": [
              "array([[4, 5],\n",
              "       [7, 8]])"
            ]
          },
          "metadata": {},
          "execution_count": 44
        }
      ]
    },
    {
      "cell_type": "code",
      "source": [
        "\n",
        "\n",
        "################################################################################################ Clase 3 - Problema de crear un cuadrado\n",
        "import numpy as np\n",
        "\n",
        "def crear_cuadrado(x,y,m,square_size):\n",
        "  matriz_ceros = np.zeros((m, m))\n",
        "  j = y\n",
        "  try:\n",
        "    for x in range(x, x+square_size,):\n",
        "      for y in range(y, y+square_size):\n",
        "        matriz_ceros[x,y] = 255\n",
        "      y = j\n",
        "    return matriz_ceros\n",
        "  except:\n",
        "    print(\"No se puede crear el cuadrado en la posición proporcionada debido a la falta de espacio en los bordes\")\n",
        "    print(None)\n",
        "\n",
        "x = int(input(\"Digite la pos X: \"))\n",
        "y = int(input(\"Digite la pos Y: \"))\n",
        "m = int(input(\"Digite el tamanho de la imagen/matriz: \"))\n",
        "square_size = int(input(\"Digite el tamanho del cuadrado: \"))\n",
        "\n",
        "print(crear_cuadrado(x, y, m, square_size))\n",
        "################################################################################################\n",
        "\n"
      ],
      "metadata": {
        "colab": {
          "base_uri": "https://localhost:8080/"
        },
        "id": "WqmU8LzCyrR0",
        "outputId": "68c3caac-25d2-4568-ac61-f1f7e6248612"
      },
      "execution_count": 65,
      "outputs": [
        {
          "output_type": "stream",
          "name": "stdout",
          "text": [
            "Digite la pos X: 8\n",
            "Digite la pos Y: 8\n",
            "Digite el tamanho de la imagen/matriz: 10\n",
            "Digite el tamanho del cuadrado: 2\n",
            "[[  0.   0.   0.   0.   0.   0.   0.   0.   0.   0.]\n",
            " [  0.   0.   0.   0.   0.   0.   0.   0.   0.   0.]\n",
            " [  0.   0.   0.   0.   0.   0.   0.   0.   0.   0.]\n",
            " [  0.   0.   0.   0.   0.   0.   0.   0.   0.   0.]\n",
            " [  0.   0.   0.   0.   0.   0.   0.   0.   0.   0.]\n",
            " [  0.   0.   0.   0.   0.   0.   0.   0.   0.   0.]\n",
            " [  0.   0.   0.   0.   0.   0.   0.   0.   0.   0.]\n",
            " [  0.   0.   0.   0.   0.   0.   0.   0.   0.   0.]\n",
            " [  0.   0.   0.   0.   0.   0.   0.   0. 255. 255.]\n",
            " [  0.   0.   0.   0.   0.   0.   0.   0. 255. 255.]]\n"
          ]
        }
      ]
    },
    {
      "cell_type": "code",
      "source": [
        "\n",
        "\n",
        "################################################################################################ Clase 4 - ejercicio 5\n",
        "import pandas as pd\n",
        "\n",
        "df = pd.read_csv('sales_train.csv')\n",
        "grupo = df.groupby(['item_id', 'item_price']).size().reset_index(name='count')\n",
        "grupo = grupo.drop(columns='count')\n",
        "grupo = grupo.groupby('item_id').size().reset_index(name='count')\n",
        "grupo = grupo.loc[grupo['count'] <= 1]\n",
        "cantidad_filas = grupo.shape[0]\n",
        "print(\"Cantidad de productos con un unico precio durante todo el tiempo:\", cantidad_filas)\n",
        "################################################################################################\n",
        "\n"
      ],
      "metadata": {
        "colab": {
          "base_uri": "https://localhost:8080/"
        },
        "id": "zC8RL-DH7GtL",
        "outputId": "8bf09126-22f3-4db9-9645-f1bf3517c725"
      },
      "execution_count": 91,
      "outputs": [
        {
          "output_type": "stream",
          "name": "stdout",
          "text": [
            "Cantidad de productos con un unico precio durante todo el tiempo: 5926\n"
          ]
        }
      ]
    },
    {
      "cell_type": "code",
      "source": [
        "\n",
        "\n",
        "################################################################################################ Clase 4 - ejercicio 6\n",
        "import pandas as pd\n",
        "\n",
        "df = pd.read_csv('sales_train.csv')\n",
        "df['mult'] = df['item_price'] * df['item_cnt_day']\n",
        "df[['day', 'month', 'year']] = df['date'].str.split('.', expand=True)\n",
        "df = df[(df['month'] == '01') & (df['year'] == '2013')]\n",
        "totalVentasEnero13 = df['item_price'].sum()\n",
        "print(\"Suma de item_price para enero de 2013:\", totalVentasEnero13)\n",
        "################################################################################################\n",
        "\n"
      ],
      "metadata": {
        "colab": {
          "base_uri": "https://localhost:8080/"
        },
        "id": "XlLXNNDC9d8R",
        "outputId": "06eae487-222f-41f2-974a-b794101545a2"
      },
      "execution_count": 104,
      "outputs": [
        {
          "output_type": "stream",
          "name": "stdout",
          "text": [
            "Suma de item_price para enero de 2013: 82211873.87742274\n"
          ]
        }
      ]
    },
    {
      "cell_type": "code",
      "source": [
        "################################################################################################ Clase 4 - ejercicio 7\n",
        "import pandas as pd\n",
        "\n",
        "df = pd.read_csv('titanic.csv')\n",
        "m = df[df['Sex'] == 'female']\n",
        "mcount = m['Survived'].value_counts()\n",
        "h = df[df['Sex'] == 'male']\n",
        "hcount = h['Survived'].value_counts()\n",
        "\n",
        "print(f\"Mujeres vivas: {mcount[1]}\\nMujeres muertas: {mcount[0]}\\nHombres vivos: {hcount[1]}\\nHombres muertos: {hcount[0]}\\n\")\n",
        "\n",
        "totalpasajeros = df['PassengerId'].sum()\n",
        "print(totalpasajeros)\n",
        "\n",
        "#print(df[['Survived', 'Pclass', 'Name' ]])\n",
        "\n",
        "survivedByClass = df[df['Survived'] == 1]\n",
        "survivedByClass = (survivedByClass.groupby('Pclass')['Survived'].count() / df.groupby('Pclass')['Survived'].count()) * 100\n",
        "print(survivedByClass)\n",
        "\n",
        "\n",
        "################################################################################################"
      ],
      "metadata": {
        "colab": {
          "base_uri": "https://localhost:8080/"
        },
        "id": "zjNGXCVGJJfq",
        "outputId": "e7bafde9-940e-4992-ebc2-c7c12f8351f6"
      },
      "execution_count": 128,
      "outputs": [
        {
          "output_type": "stream",
          "name": "stdout",
          "text": [
            "Mujeres vivas: 233\n",
            "Mujeres muertas: 81\n",
            "Hombres vivos: 109\n",
            "Hombres muertos: 468\n",
            "\n",
            "397386\n",
            "Pclass\n",
            "1    62.962963\n",
            "2    47.282609\n",
            "3    24.236253\n",
            "Name: Survived, dtype: float64\n"
          ]
        }
      ]
    }
  ]
}